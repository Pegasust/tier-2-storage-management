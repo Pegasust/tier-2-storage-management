{
 "cells": [
  {
   "cell_type": "code",
   "execution_count": 4,
   "metadata": {
    "vscode": {
     "languageId": "shellscript"
    }
   },
   "outputs": [
    {
     "name": "stdout",
     "output_type": "stream",
     "text": [
      "env: REMOTE_AWS_DEEP=aws_deep\n",
      "env: ROOT_AWS=test-glacier-restore-htr\n",
      "env: _rclone=./rclone --dry-run\n"
     ]
    }
   ],
   "source": [
    "# .env\n",
    "# configured with DEEP_GLACIER as storage class\n",
    "# but could also work with GlACIER storage class\n",
    "%env REMOTE_AWS_DEEP=aws_deep\n",
    "%env ROOT_AWS=test-glacier-restore-htr\n",
    "%env _rclone=./rclone --dry-run"
   ]
  },
  {
   "cell_type": "code",
   "execution_count": 2,
   "metadata": {
    "vscode": {
     "languageId": "shellscript"
    }
   },
   "outputs": [
    {
     "name": "stderr",
     "output_type": "stream",
     "text": [
      "2022/06/14 21:23:54 Failed to create file system for \":\": config name needs a trailing `:`\n"
     ]
    },
    {
     "name": "stdout",
     "output_type": "stream",
     "text": [
      "        0 abc\n",
      "        0 c\n",
      "        0 hello-world.txt\n",
      "        0 some/long/path/a\n",
      "        0 some/long/path/b\n"
     ]
    },
    {
     "name": "stderr",
     "output_type": "stream",
     "text": [
      "2022/06/14 21:23:54 Failed to create file system for \":/test\": config name contains invalid characters - may only contain `0-9`, `A-Z`, `a-z`, `_`, `-`, `.` and space\n"
     ]
    }
   ],
   "source": [
    "%%bash\n",
    "#set up AWS root\n",
    "rclone purge ${REMOTE_AWS_DEEP}:${ROOT_AWS}\n",
    "mkdir test && touch $_/{hello-world.txt,abc,c}\n",
    "mkdir -p test/long/path/empty/dir test/some/long/path && touch $_/{a,b}\n",
    "rclone ls test\n",
    "rclone copy test ${REMOTE_AWS_DEEP}:${ROOT_AWS}/test\n",
    "rm -rf test"
   ]
  },
  {
   "cell_type": "markdown",
   "metadata": {},
   "source": [
    "# Using `rclone backend restore`\n",
    "\n",
    "`rclone backend restore <remote:>path/to/restore/dir -o lifetime=<N> -o priority=<Standard|Expedite|Bulk>`\n",
    "- `N` is the time in days the restored object will be in higher tier for restoration\n",
    "- `Priority` refers to how urgent the restore request is."
   ]
  },
  {
   "cell_type": "code",
   "execution_count": 20,
   "metadata": {
    "vscode": {
     "languageId": "shellscript"
    }
   },
   "outputs": [
    {
     "name": "stdout",
     "output_type": "stream",
     "text": [
      "### restore\n",
      "Restore objects from GLACIER to normal storage\n",
      "    rclone backend restore remote: [options] [<arguments>+]\n",
      "This command can be used to restore one or more objects from GLACIER\n",
      "to normal storage.\n",
      "Usage Examples:\n",
      "    rclone backend restore s3:bucket/path/to/object [-o priority=PRIORITY] [-o lifetime=DAYS]\n",
      "    rclone backend restore s3:bucket/path/to/directory [-o priority=PRIORITY] [-o lifetime=DAYS]\n",
      "    rclone backend restore s3:bucket [-o priority=PRIORITY] [-o lifetime=DAYS]\n",
      "This flag also obeys the filters. Test first with -i/--interactive or --dry-run flags\n"
     ]
    }
   ],
   "source": [
    "%%bash\n",
    "rclone backend help ${REMOTE_AWS_DEEP}: | sed '/^$/d' | tail -n +10 | head -n 10"
   ]
  },
  {
   "cell_type": "code",
   "execution_count": 19,
   "metadata": {
    "vscode": {
     "languageId": "shellscript"
    }
   },
   "outputs": [
    {
     "name": "stdout",
     "output_type": "stream",
     "text": [
      "[\n",
      "\t{\n",
      "\t\t\"Status\": \"OK\",\n",
      "\t\t\"Remote\": \"long/path/a\"\n",
      "\t},\n",
      "\t{\n",
      "\t\t\"Status\": \"OK\",\n",
      "\t\t\"Remote\": \"long/path/b\"\n",
      "\t}\n",
      "]\n"
     ]
    }
   ],
   "source": [
    "%%bash\n",
    "$_rclone backend restore ${REMOTE_AWS_DEEP}:${ROOT_AWS}/test/some -o lifetime=3 -o priority=Standard"
   ]
  },
  {
   "cell_type": "markdown",
   "metadata": {},
   "source": [
    "## Tips: Use [filters](./standard_ops.ipynb#selections--filtering) to select files to restore\n",
    "\n",
    "Per the documentation, the restore comand respects filters"
   ]
  },
  {
   "cell_type": "code",
   "execution_count": 26,
   "metadata": {
    "vscode": {
     "languageId": "shellscript"
    }
   },
   "outputs": [
    {
     "name": "stdout",
     "output_type": "stream",
     "text": [
      "    rclone -i backend restore --include \"*.txt\" s3:bucket/path -o priority=Standard\n",
      "All the objects shown will be marked for restore, then\n",
      "    rclone backend restore --include \"*.txt\" s3:bucket/path -o priority=Standard\n"
     ]
    }
   ],
   "source": [
    "!rclone backend help aws: | sed '/^$/d' | tail -n +20 | head -n 3"
   ]
  },
  {
   "cell_type": "markdown",
   "metadata": {},
   "source": [
    "In this example, we have 2 files in same folder: `bucket/test/long/path/{a,b}`. We will restore only `b`."
   ]
  },
  {
   "cell_type": "code",
   "execution_count": 36,
   "metadata": {
    "vscode": {
     "languageId": "shellscript"
    }
   },
   "outputs": [
    {
     "name": "stderr",
     "output_type": "stream",
     "text": [
      "2022/06/14 21:15:45 NOTICE: b: Skipped restore as --dry-run is set (size 0)\n"
     ]
    },
    {
     "name": "stdout",
     "output_type": "stream",
     "text": [
      "[\n",
      "\t{\n",
      "\t\t\"Status\": \"OK\",\n",
      "\t\t\"Remote\": \"b\"\n",
      "\t}\n",
      "]\n"
     ]
    }
   ],
   "source": [
    "%%bash\n",
    "$_rclone --include \"b\" backend restore ${REMOTE_AWS_DEEP}:${ROOT_AWS}/test/some/long/path"
   ]
  },
  {
   "cell_type": "markdown",
   "metadata": {},
   "source": [
    "## Nitpick: The arguments are required\n",
    "\n",
    "Without either of the `-o priority=<N> -o lifetime=<..>`, we will get a hard-to-debug message.\n",
    "\n",
    "This is due to the S3 Go (and many other languages) SDK doesn't handle this requirement and fail quick.\n",
    "\n",
    "NOTE: if you do `--dry-run` here, there will be no error message in the status.\n",
    "This is because `rclone` is blind of these bits."
   ]
  },
  {
   "cell_type": "code",
   "execution_count": 23,
   "metadata": {
    "vscode": {
     "languageId": "shellscript"
    }
   },
   "outputs": [
    {
     "name": "stdout",
     "output_type": "stream",
     "text": [
      "[\n",
      "\t{\n",
      "\t\t\"Status\": \"MalformedXML: The XML you provided was not well-formed or did not validate against our published schema\\n\\tstatus code: 400, request id: 7J69AF7DVYG39X14, host id: cqQrm03eQzTG/ZRN4XTrqBVZbtU9QwJHQC/sP2qZKCz6KKfXN6YSriPQc9B+shv35qcdMM/Lq34=\",\n",
      "\t\t\"Remote\": \"abc\"\n",
      "\t},\n"
     ]
    }
   ],
   "source": [
    "%%bash\n",
    "rclone backend restore ${REMOTE_AWS_DEEP}:${ROOT_AWS}/test | head -n 5"
   ]
  },
  {
   "cell_type": "markdown",
   "metadata": {},
   "source": [
    "## Nitpick: The path must point to a directory (or a bucket)\n",
    "\n",
    "Because of implementation details, `rclone` couldn't restore by object (file)\n",
    "despite the documentation includes `path/to/object`."
   ]
  },
  {
   "cell_type": "code",
   "execution_count": 38,
   "metadata": {
    "vscode": {
     "languageId": "shellscript"
    }
   },
   "outputs": [
    {
     "name": "stderr",
     "output_type": "stream",
     "text": [
      "2022/06/14 21:17:12 Failed to backend: is a file not a directory\n"
     ]
    },
    {
     "name": "stdout",
     "output_type": "stream",
     "text": [
      "Exited: 1\n"
     ]
    }
   ],
   "source": [
    "%%bash\n",
    "$_rclone backend restore ${REMOTE_AWS_DEEP}:${ROOT_AWS}/test/hello-world.txt -o lifetime=3 -o priority=Standard\n",
    "echo \"Exited: $?\""
   ]
  },
  {
   "cell_type": "code",
   "execution_count": null,
   "metadata": {
    "vscode": {
     "languageId": "shellscript"
    }
   },
   "outputs": [],
   "source": []
  },
  {
   "cell_type": "code",
   "execution_count": 5,
   "metadata": {
    "vscode": {
     "languageId": "shellscript"
    }
   },
   "outputs": [],
   "source": [
    "%%bash\n",
    "# Clear the bucket footprint\n",
    "rclone purge ${REMOTE_AWS_DEEP}:/${ROOT_AWS}"
   ]
  }
 ],
 "metadata": {
  "kernelspec": {
   "display_name": "Python 3.9.12 64-bit",
   "language": "python",
   "name": "python3"
  },
  "language_info": {
   "codemirror_mode": {
    "name": "ipython",
    "version": 3
   },
   "file_extension": ".py",
   "mimetype": "text/x-python",
   "name": "python",
   "nbconvert_exporter": "python",
   "pygments_lexer": "ipython3",
   "version": "3.9.13"
  },
  "orig_nbformat": 4,
  "vscode": {
   "interpreter": {
    "hash": "f9f85f796d01129d0dd105a088854619f454435301f6ffec2fea96ecbd9be4ac"
   }
  }
 },
 "nbformat": 4,
 "nbformat_minor": 2
}
