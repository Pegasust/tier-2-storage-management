{
 "cells": [
  {
   "cell_type": "markdown",
   "metadata": {},
   "source": [
    "# Pre-requisite\n",
    "\n",
    "This notebook is written as a sequel to [the first notebook](standard_ops.ipynb).\n",
    "\n",
    "While the first notebook touches the basic commands, this one touches on the nitpicking details\n",
    "working with different remotes with `rclone`:\n",
    "- Hierarchiral filesystem: Google Drive\n",
    "- Bucket-based storage: AWS S3\n",
    "\n",
    "**NOTE**: These details are versatile to changes from the storage providers' API. \n",
    "Details are written with the following configurations"
   ]
  },
  {
   "cell_type": "code",
   "execution_count": 3,
   "metadata": {
    "vscode": {
     "languageId": "shellscript"
    }
   },
   "outputs": [
    {
     "name": "stdout",
     "output_type": "stream",
     "text": [
      "env: _rclone=./rclone\n",
      "env: REMOTE_AWS=aws\n",
      "env: REMOTE_AWS_DEEP=aws_deep\n",
      "env: REMOTE_GDRIVE=gdrive\n",
      "rclone v1.58.1\n",
      "- os/version: ubuntu 20.04 (64 bit)\n",
      "- os/kernel: 5.10.102.1-microsoft-standard-WSL2 (x86_64)\n",
      "- os/type: linux\n",
      "- os/arch: amd64\n",
      "- go/version: go1.17.9\n",
      "- go/linking: static\n",
      "- go/tags: none\n"
     ]
    }
   ],
   "source": [
    "%env _rclone=./rclone\n",
    "%env REMOTE_AWS=aws\n",
    "%env REMOTE_AWS_DEEP=aws_deep\n",
    "%env REMOTE_GDRIVE=gdrive\n",
    "\n",
    "!$_rclone version"
   ]
  },
  {
   "cell_type": "markdown",
   "metadata": {},
   "source": [
    "# Bucket-based storage: Can create/delete buckets with enough permissions\n",
    "\n",
    "Surprisingly, we could create a new bucket by `copy`, `mkdir`,... into a non-existent bucket.\n",
    "\n",
    "We could also deletes the bucket by doing `purge`\n",
    "\n",
    "**NOTE**: This probably doesn't work with our UITS-provided s3 buckets. \n",
    "Due to insufficient permissions"
   ]
  },
  {
   "cell_type": "code",
   "execution_count": 10,
   "metadata": {
    "vscode": {
     "languageId": "shellscript"
    }
   },
   "outputs": [
    {
     "name": "stdout",
     "output_type": "stream",
     "text": [
      "env: NEW_BUCKET=test-new-bucket-0000\n"
     ]
    }
   ],
   "source": [
    "%env NEW_BUCKET=test-new-bucket-0000"
   ]
  },
  {
   "cell_type": "code",
   "execution_count": 28,
   "metadata": {
    "vscode": {
     "languageId": "shellscript"
    }
   },
   "outputs": [
    {
     "name": "stdout",
     "output_type": "stream",
     "text": [
      "          -1 2022-06-14 20:35:53        -1 test-new-bucket-0000\n",
      "ok; test-new-bucket-0000 also deleted.\n"
     ]
    }
   ],
   "source": [
    "%%bash\n",
    "# the bucket not yet existed\n",
    "if $_rclone lsd ${REMOTE_AWS}: | grep $NEW_BUCKET ; then echo \"$NEW_BUCKET already existed\"; exit 1; fi\n",
    "\n",
    "$_rclone mkdir ${REMOTE_AWS}:$NEW_BUCKET\n",
    "\n",
    "# now it should show up\n",
    "if ! $_rclone lsd ${REMOTE_AWS}: | grep $NEW_BUCKET ; then echo \"mkdir doesn't delete\"; exit 1; fi\n",
    "\n",
    "# purge deletes it\n",
    "$_rclone purge ${REMOTE_AWS}:$NEW_BUCKET\n",
    "\n",
    "if $_rclone lsd ${REMOTE_AWS}: | grep $NEW_BUCKET ; then echo \"purge doesn't delete\"; exit 1; fi\n",
    "\n",
    "echo \"ok; $NEW_BUCKET also deleted.\""
   ]
  }
 ],
 "metadata": {
  "kernelspec": {
   "display_name": "Python 3.9.12 64-bit",
   "language": "python",
   "name": "python3"
  },
  "language_info": {
   "codemirror_mode": {
    "name": "ipython",
    "version": 3
   },
   "file_extension": ".py",
   "mimetype": "text/x-python",
   "name": "python",
   "nbconvert_exporter": "python",
   "pygments_lexer": "ipython3",
   "version": "3.9.13"
  },
  "orig_nbformat": 4,
  "vscode": {
   "interpreter": {
    "hash": "f9f85f796d01129d0dd105a088854619f454435301f6ffec2fea96ecbd9be4ac"
   }
  }
 },
 "nbformat": 4,
 "nbformat_minor": 2
}
