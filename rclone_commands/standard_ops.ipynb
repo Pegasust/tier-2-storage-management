{
 "cells": [
  {
   "cell_type": "markdown",
   "metadata": {},
   "source": [
    "# Pre-requisite\n",
    "\n",
    "The following notebook assumes you have [configured remotes for rclone](../aws/rclone/).\n",
    "\n",
    "We will assume the following variables. It will be loaded via `source .env` or other means:\n"
   ]
  },
  {
   "cell_type": "code",
   "execution_count": 39,
   "metadata": {
    "vscode": {
     "languageId": "shellscript"
    }
   },
   "outputs": [
    {
     "name": "stdout",
     "output_type": "stream",
     "text": [
      "env: REMOTE_AWS=aws\n",
      "env: REMOTE_AWS_DEEP=aws_deep\n",
      "env: REMOTE_GDRIVE=gdrive\n",
      "env: ROOT_AWS=test-bucket\n",
      "env: ROOT_LOCAL=test_objects\n",
      "env: ROOT_GDRIVE=ronaldstouffer\n",
      "env: TEST_FOLDER=Becki_Port_april2021\n",
      "env: FLAGGED_RCLONE=./rclone\n"
     ]
    }
   ],
   "source": [
    "# .env\n",
    "# For actual .env, remove prefixing `%env `\n",
    "\n",
    "# rclone remotes\n",
    "# configured with STANDARD or INTELLIGENT_TIERING storage cls\n",
    "%env REMOTE_AWS=aws\n",
    "# configured with DEEP_GLACIER as storage class\n",
    "%env REMOTE_AWS_DEEP=aws_deep\n",
    "%env REMOTE_GDRIVE=gdrive\n",
    "\n",
    "# root folders & test objects\n",
    "# Best practice: should only be bucket name, no nested folder\n",
    "%env ROOT_AWS=test-bucket\n",
    "%env ROOT_LOCAL=test_objects\n",
    "%env ROOT_GDRIVE=ronaldstouffer\n",
    "\n",
    "%env TEST_FOLDER=Becki_Port_april2021\n",
    "\n",
    "# configure some flags for rclone\n",
    "# can also put --dry-run or --interactive to lessen the effect on actual drives/buckets\n",
    "%env FLAGGED_RCLONE=./rclone -vv\n",
    "\n",
    "# before any codeblock:\n",
    "# !source .env\n",
    "!FLAGGED_RCLONE=${FLAGGED_RCLONE:-\"rclone\"}"
   ]
  },
  {
   "cell_type": "markdown",
   "metadata": {},
   "source": [
    "# Copying from one place to another\n",
    "\n",
    "`rclone copy [remote_src:]src_dir [remote_dest:]dest_dir`\n",
    "- If no remote is specified, then it means we're performing on local filesystem.\n",
    "- `rclone copy` works as if you put a trailing `/`\n",
    "- rclone avoids transfering files that are identical from src and dest\n",
    "  - Size & (modification time OR MD5 SUM)"
   ]
  },
  {
   "cell_type": "code",
   "execution_count": 42,
   "metadata": {
    "vscode": {
     "languageId": "shellscript"
    }
   },
   "outputs": [
    {
     "name": "stdout",
     "output_type": "stream",
     "text": [
      "aws\n"
     ]
    },
    {
     "name": "stderr",
     "output_type": "stream",
     "text": [
      "mkdir: cannot create directory ‘abc’: File exists\n"
     ]
    }
   ],
   "source": [
    "%%bash\n",
    "echo $REMOTE_AWS\n",
    "# trailing / demonstration\n",
    "mkdir abc\n",
    "touch abc/d.txt abc/hello-world.txt\n",
    "# abc/d.txt  abc/hello-world.txt\n",
    "$FLAGGED_RCLONE copy abc def\n"
   ]
  },
  {
   "cell_type": "markdown",
   "metadata": {},
   "source": [
    "The copy results will be: `def/d.txt  def/hello-world.txt`, equivalent to:"
   ]
  },
  {
   "cell_type": "code",
   "execution_count": null,
   "metadata": {
    "vscode": {
     "languageId": "shellscript"
    }
   },
   "outputs": [
    {
     "ename": "SyntaxError",
     "evalue": "invalid syntax (4215394528.py, line 1)",
     "output_type": "error",
     "traceback": [
      "\u001b[0;36m  Input \u001b[0;32mIn [3]\u001b[0;36m\u001b[0m\n\u001b[0;31m    $FLAGGED_RCLONE abc/* def/\u001b[0m\n\u001b[0m    ^\u001b[0m\n\u001b[0;31mSyntaxError\u001b[0m\u001b[0;31m:\u001b[0m invalid syntax\n"
     ]
    }
   ],
   "source": [
    "$FLAGGED_RCLONE abc/* def/\n",
    "cp -r abc/ def/\n",
    "cp abc/* def"
   ]
  },
  {
   "cell_type": "markdown",
   "metadata": {},
   "source": [
    "# Deleting files\n",
    "\n",
    "2 commands:\n",
    "- `rclone delete [remote:]path/to/dir`: deletes the files in given path. Doesn't delete directory structure\n",
    "- `rclone purge [remote:]path/to/dir`: acts like `rm -rf path/to/dir`.\n",
    "  - Cannot use selections (because it's deleting the whole directory)\n",
    "\n"
   ]
  }
 ],
 "metadata": {
  "kernelspec": {
   "display_name": "Python 3.9.12 64-bit",
   "language": "python",
   "name": "python3"
  },
  "language_info": {
   "codemirror_mode": {
    "name": "ipython",
    "version": 3
   },
   "file_extension": ".py",
   "mimetype": "text/x-python",
   "name": "python",
   "nbconvert_exporter": "python",
   "pygments_lexer": "ipython3",
   "version": "3.9.12"
  },
  "orig_nbformat": 4,
  "vscode": {
   "interpreter": {
    "hash": "f9f85f796d01129d0dd105a088854619f454435301f6ffec2fea96ecbd9be4ac"
   }
  }
 },
 "nbformat": 4,
 "nbformat_minor": 2
}
