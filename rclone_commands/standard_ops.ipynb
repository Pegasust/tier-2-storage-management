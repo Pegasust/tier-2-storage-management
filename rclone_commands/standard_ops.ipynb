{
 "cells": [
  {
   "cell_type": "markdown",
   "metadata": {},
   "source": [
    "# Pre-requisite\n",
    "\n",
    "The following notebook assumes you have [configured remotes for rclone](../aws/rclone/).\n",
    "\n",
    "We will assume the following variables. It will be loaded via `source .env` or other means:\n",
    "\n",
    "```bash\n",
    "# .env\n",
    "\n",
    "# rclone remotes\n",
    "REMOTE_AWS=\"aws\"           # configured with STANDARD or INTELLIGENT_TIERING storage cls\n",
    "REMOTE_AWS_DEEP=\"aws_deep\" # configured with DEEP_GLACIER as storage class\n",
    "REMOTE_GDRIVE=\"gdrive\"\n",
    "\n",
    "# root folders & test objects\n",
    "ROOT_AWS=\"test-bucket\"     # Best practice: should only be bucket name, no nested folder\n",
    "ROOT_LOCAL=\"test_objects\"\n",
    "ROOT_GDRIVE=\"ronaldstouffer\"\n",
    "\n",
    "TEST_FOLDER=\"Becki_Port_april2021\"\n",
    "\n",
    "# configure some flags for rclone\n",
    "FLAGGED_RCLONE=\"rclone -vv\"  # we can also put --dry-run for no actual changes\n",
    "\n",
    "# before any codeblock:\n",
    "source .env\n",
    "FLAGGED_RCLONE=${FLAGGED_RCLONE:-\"rclone\"}\n",
    "```"
   ]
  },
  {
   "cell_type": "markdown",
   "metadata": {},
   "source": [
    "# Copying from one place to another\n",
    "\n",
    "`rclone copy [remote_src:]src_dir [remote_dest:]dest_dir`\n",
    "- If no remote is specified, then it means we're performing on local filesystem.\n",
    "- `rclone copy` works as if you put a trailing `/`\n",
    "- rclone avoids transfering files that are identical from src and dest\n",
    "  - Size & (modification time OR MD5 SUM)"
   ]
  },
  {
   "cell_type": "code",
   "execution_count": null,
   "metadata": {
    "vscode": {
     "languageId": "shellscript"
    }
   },
   "outputs": [],
   "source": [
    "# trailing / demonstration\n",
    "mkdir abc\n",
    "touch abc/d.txt abc/hello-world.txt\n",
    "# abc/d.txt  abc/hello-world.txt\n",
    "$FLAGGED_RCLONE abc def"
   ]
  },
  {
   "cell_type": "markdown",
   "metadata": {},
   "source": [
    "The copy results will be: `def/d.txt  def/hello-world.txt`, equivalent to:"
   ]
  },
  {
   "cell_type": "code",
   "execution_count": null,
   "metadata": {
    "vscode": {
     "languageId": "shellscript"
    }
   },
   "outputs": [],
   "source": [
    "$FLAGGED_RCLONE abc/* def/\n",
    "cp -r abc/ def/\n",
    "cp abc/* def"
   ]
  },
  {
   "cell_type": "markdown",
   "metadata": {},
   "source": [
    "# Deleting files\n",
    "\n",
    "2 commands:\n",
    "- `rclone delete [remote:]path/to/dir`: deletes the files in given path. Doesn't delete directory structure\n",
    "- `rclone purge [remote:]path/to/dir`: acts like `rm -rf path/to/dir`.\n",
    "  - Cannot use selections (because it's deleting the whole directory)\n",
    "\n"
   ]
  }
 ],
 "metadata": {
  "language_info": {
   "name": "python"
  },
  "orig_nbformat": 4
 },
 "nbformat": 4,
 "nbformat_minor": 2
}
