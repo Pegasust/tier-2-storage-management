{
 "cells": [
  {
   "cell_type": "markdown",
   "metadata": {},
   "source": [
    "# Pre-requisite\n",
    "\n",
    "The following notebook assumes you have [configured remotes for rclone](../aws/rclone/).\n",
    "\n",
    "We will assume the following variables. It will be loaded via `source .env` or other means:\n"
   ]
  },
  {
   "cell_type": "code",
   "execution_count": 1,
   "metadata": {
    "vscode": {
     "languageId": "shellscript"
    }
   },
   "outputs": [
    {
     "name": "stdout",
     "output_type": "stream",
     "text": [
      "env: REMOTE_AWS=aws\n",
      "env: REMOTE_AWS_DEEP=aws_deep\n",
      "env: REMOTE_GDRIVE=gdrive\n",
      "env: ROOT_AWS=test-bucket\n",
      "env: ROOT_LOCAL=test_objects\n",
      "env: ROOT_GDRIVE=ronaldstouffer\n",
      "env: TEST_FOLDER=Becki_Port_april2021\n",
      "env: _rclone=./rclone\n"
     ]
    }
   ],
   "source": [
    "# .env\n",
    "# For actual .env, remove prefixing `%env `\n",
    "\n",
    "# rclone remotes\n",
    "# configured with STANDARD or INTELLIGENT_TIERING storage cls\n",
    "%env REMOTE_AWS=aws\n",
    "# configured with DEEP_GLACIER as storage class\n",
    "%env REMOTE_AWS_DEEP=aws_deep\n",
    "%env REMOTE_GDRIVE=gdrive\n",
    "\n",
    "# root folders & test objects\n",
    "# Best practice: should only be bucket name, no nested folder\n",
    "%env ROOT_AWS=test-bucket\n",
    "%env ROOT_LOCAL=test_objects\n",
    "%env ROOT_GDRIVE=ronaldstouffer\n",
    "\n",
    "%env TEST_FOLDER=Becki_Port_april2021\n",
    "\n",
    "# configure some flags for rclone\n",
    "# can also put --dry-run or --interactive to lessen the effect on actual drives/buckets\n",
    "# can put -vv for more diagnostics\n",
    "%env _rclone=./rclone\n",
    "\n",
    "# before any codeblock:\n",
    "# !source .env\n",
    "!_rclone=${_rclone:-\"rclone\"}"
   ]
  },
  {
   "cell_type": "markdown",
   "metadata": {},
   "source": [
    "# Safe file manipulation with `--dry-run` and `--interactive` flags\n",
    "\n",
    "These flags are useful to test runs before doing the actual storage management operation.\n",
    "\n",
    "We don't want to play around with [`rclone purge`](#deleting-files) by itself then mistakenly deleting everything.\n",
    "\n",
    "`--interactive`: prompts you before doing \"destructive\" operation"
   ]
  },
  {
   "cell_type": "code",
   "execution_count": 2,
   "metadata": {
    "vscode": {
     "languageId": "shellscript"
    }
   },
   "outputs": [
    {
     "name": "stdout",
     "output_type": "stream",
     "text": [
      "rclone: copy \"rclone\"?\n",
      "y) Yes, this is OK (default)\n",
      "n) No, skip this\n",
      "s) Skip all copy operations with no more questions\n",
      "!) Do all copy operations with no more questions\n",
      "q) Exit rclone now.\n"
     ]
    },
    {
     "name": "stderr",
     "output_type": "stream",
     "text": [
      "2022/06/14 18:11:55 NOTICE: Quitting rclone now\n"
     ]
    },
    {
     "name": "stdout",
     "output_type": "stream",
     "text": [
      "y/n/s/!/q> rclone: delete \"README.md\"?\n",
      "y) Yes, this is OK (default)\n",
      "n) No, skip this\n",
      "s) Skip all delete operations with no more questions\n",
      "!) Do all delete operations with no more questions\n",
      "q) Exit rclone now.\n"
     ]
    },
    {
     "name": "stderr",
     "output_type": "stream",
     "text": [
      "2022/06/14 18:11:56 NOTICE: Quitting rclone now\n"
     ]
    },
    {
     "name": "stdout",
     "output_type": "stream",
     "text": [
      "y/n/s/!/q> rclone: purge directory \"Local file system at /mnt/c/Users/_nhitrl/repos/git_server/hpc_works/tier-2-storage-management/rclone_commands\"?\n",
      "y) Yes, this is OK (default)\n",
      "n) No, skip this\n",
      "s) Skip all purge directory operations with no more questions\n",
      "!) Do all purge directory operations with no more questions\n",
      "q) Exit rclone now.\n"
     ]
    },
    {
     "name": "stderr",
     "output_type": "stream",
     "text": [
      "2022/06/14 18:11:56 NOTICE: Quitting rclone now\n"
     ]
    },
    {
     "name": "stdout",
     "output_type": "stream",
     "text": [
      "y/n/s/!/q> "
     ]
    }
   ],
   "source": [
    "%%bash\n",
    "rclone --interactive copy . ../ < <(echo \"q\")\n",
    "rclone --interactive delete . < <(echo \"q\")\n",
    "rclone --interactive purge . < <(echo \"q\")"
   ]
  },
  {
   "cell_type": "markdown",
   "metadata": {},
   "source": [
    "`--dry-run`: Gives you an example output of the operation. Doesn't do any \"destructive\" command."
   ]
  },
  {
   "cell_type": "code",
   "execution_count": 7,
   "metadata": {
    "vscode": {
     "languageId": "shellscript"
    }
   },
   "outputs": [
    {
     "name": "stdout",
     "output_type": "stream",
     "text": [
      "total 12\n",
      "-rwxrwxrwx 1 ubuntu_admin ubuntu_admin   123 Jun 14 15:44 README.md\n",
      "-rwxrwxrwx 1 ubuntu_admin ubuntu_admin   183 Jun 14 16:41 rclone\n",
      "-rwxrwxrwx 1 ubuntu_admin ubuntu_admin 11137 Jun 14 18:15 standard_ops.ipynb\n"
     ]
    },
    {
     "name": "stderr",
     "output_type": "stream",
     "text": [
      "2022/06/14 18:15:58 NOTICE: README.md: Skipped copy as --dry-run is set (size 123)\n",
      "2022/06/14 18:15:58 NOTICE: rclone: Skipped copy as --dry-run is set (size 183)\n",
      "2022/06/14 18:15:58 NOTICE: standard_ops.ipynb: Skipped copy as --dry-run is set (size 10.876Ki)\n",
      "2022/06/14 18:15:58 NOTICE: \n",
      "Transferred:   \t   11.175 KiB / 11.175 KiB, 100%, 0 B/s, ETA -\n",
      "Transferred:            3 / 3, 100%\n",
      "Elapsed time:         0.2s\n",
      "\n",
      "2022/06/14 18:15:59 NOTICE: rclone: Skipped delete as --dry-run is set (size 183)\n",
      "2022/06/14 18:15:59 NOTICE: standard_ops.ipynb: Skipped delete as --dry-run is set (size 10.876Ki)\n",
      "2022/06/14 18:15:59 NOTICE: README.md: Skipped delete as --dry-run is set (size 123)\n",
      "2022/06/14 18:15:59 NOTICE: Local file system at /mnt/c/Users/_nhitrl/repos/git_server/hpc_works/tier-2-storage-management/rclone_commands: Skipped purge directory as --dry-run is set\n"
     ]
    },
    {
     "name": "stdout",
     "output_type": "stream",
     "text": [
      "total 12\n",
      "-rwxrwxrwx 1 ubuntu_admin ubuntu_admin   123 Jun 14 15:44 README.md\n",
      "-rwxrwxrwx 1 ubuntu_admin ubuntu_admin   183 Jun 14 16:41 rclone\n",
      "-rwxrwxrwx 1 ubuntu_admin ubuntu_admin 11137 Jun 14 18:15 standard_ops.ipynb\n"
     ]
    }
   ],
   "source": [
    "%%bash\n",
    "ls -ltr .\n",
    "rclone --dry-run copy . this/path/doesnt/get/made\n",
    "rclone --dry-run delete .\n",
    "rclone --dry-run purge .\n",
    "\n",
    "ls -ltr ."
   ]
  },
  {
   "cell_type": "markdown",
   "metadata": {},
   "source": [
    "# Listing files\n",
    "\n",
    "`rclone lsl [remote:]path`: recursive, shows modification time, size, path"
   ]
  },
  {
   "cell_type": "code",
   "execution_count": 3,
   "metadata": {
    "vscode": {
     "languageId": "shellscript"
    }
   },
   "outputs": [
    {
     "name": "stdout",
     "output_type": "stream",
     "text": [
      "      123 2022-06-14 15:44:27.462818900 README.md\n",
      "      183 2022-06-14 16:41:58.720359000 rclone\n",
      "     9184 2022-06-14 18:11:50.149206200 standard_ops.ipynb\n"
     ]
    }
   ],
   "source": [
    "!$_rclone lsl ."
   ]
  },
  {
   "cell_type": "markdown",
   "metadata": {},
   "source": [
    "# Copying from one place to another\n",
    "\n",
    "`rclone copy [remote_src:]src_dir [remote_dest:]dest_dir`\n",
    "- If no remote is specified, then it means we're performing on local filesystem.\n",
    "- `rclone copy` works as if you put a trailing `/`\n",
    "- rclone avoids transfering files that are identical from src and dest\n",
    "  - Size & (modification time or MD5 SUM)"
   ]
  },
  {
   "cell_type": "code",
   "execution_count": 4,
   "metadata": {
    "vscode": {
     "languageId": "shellscript"
    }
   },
   "outputs": [
    {
     "name": "stdout",
     "output_type": "stream",
     "text": [
      "abc:\n",
      "total 0\n",
      "-rwxrwxrwx 1 ubuntu_admin ubuntu_admin 0 Jun 14 18:11 d.txt\n",
      "-rwxrwxrwx 1 ubuntu_admin ubuntu_admin 0 Jun 14 18:11 hello-world.txt\n",
      "\n",
      "def:\n",
      "total 0\n",
      "-rwxrwxrwx 1 ubuntu_admin ubuntu_admin 0 Jun 14 18:11 hello-world.txt\n",
      "-rwxrwxrwx 1 ubuntu_admin ubuntu_admin 0 Jun 14 18:11 d.txt\n"
     ]
    }
   ],
   "source": [
    "%%bash\n",
    "# trailing / demonstration\n",
    "mkdir abc\n",
    "touch abc/d.txt abc/hello-world.txt\n",
    "# abc/d.txt  abc/hello-world.txt\n",
    "$_rclone copy abc def\n",
    "\n",
    "ls -ltr abc def\n",
    "rm -rf def"
   ]
  },
  {
   "cell_type": "markdown",
   "metadata": {},
   "source": [
    "The copy results will be: `def/d.txt  def/hello-world.txt`, equivalent to:\n",
    "\n",
    "```bash\n",
    "rclone copy abc/ def/\n",
    "mkdir def; cp -r abc/ def/\n",
    "mkdir def; cp abc/* def/\n",
    "```"
   ]
  },
  {
   "cell_type": "code",
   "execution_count": 5,
   "metadata": {
    "vscode": {
     "languageId": "shellscript"
    }
   },
   "outputs": [
    {
     "name": "stdout",
     "output_type": "stream",
     "text": [
      "ok\n",
      "ok\n"
     ]
    }
   ],
   "source": [
    "%%bash\n",
    "$_rclone copy abc/ def/\n",
    "expected=$(ls -ltr abc def)\n",
    "rm -rf def\n",
    "\n",
    "mkdir def; cp -r abc/ def/\n",
    "diff=$(sdiff <(ls -ltr abc def) <(echo $expected))\n",
    "if [ $? ]; then \n",
    "    echo ok; \n",
    "else \n",
    "    echo $diff; \n",
    "fi\n",
    "rm -rf def\n",
    "\n",
    "mkdir def; cp abc/* def/\n",
    "diff=$(sdiff <(ls -ltr abc def) <(echo $expected))\n",
    "if [ $? ]; then \n",
    "    echo ok; \n",
    "else \n",
    "    echo $diff; \n",
    "fi\n",
    "rm -rf def abc"
   ]
  },
  {
   "cell_type": "markdown",
   "metadata": {},
   "source": [
    "# Deleting files\n",
    "\n",
    "**NOTE: Be very careful when deleting files, especially with the purge command. If possible, do try this with the [`--interactive` flag or test run with `--dry-run`](#safe-file-manipulation-with---dry-run-and---interactive-flags) first!**\n",
    "\n",
    "2 commands:\n",
    "- `rclone delete [remote:]path/to/dir`: deletes the files in given path. Doesn't delete directory structure\n",
    "- `rclone purge [remote:]path/to/dir`: acts like `rm -rf path/to/dir`.\n",
    "  - Cannot use [selections](#selections--filtering) (because it's deleting the whole directory)\n"
   ]
  },
  {
   "cell_type": "markdown",
   "metadata": {},
   "source": [
    "# Selections & Filtering \n",
    "\n",
    "Many commands support selection flags like `rclone {copy, delete, ls*, *sum, check, sync, move,...}`\n",
    "- Crucial when manipulating files with [Bucket-based storage](./best_practices_bucket_storage.ipynb)\n",
    "- `--exclude-from <ignore-file>` acts like `.gitignore` filter\n",
    "\n",
    "## `--include`, `--include-from`, `--exclude`, `--exclude-from` and more!"
   ]
  },
  {
   "cell_type": "code",
   "execution_count": null,
   "metadata": {
    "vscode": {
     "languageId": "shellscript"
    }
   },
   "outputs": [],
   "source": []
  },
  {
   "cell_type": "markdown",
   "metadata": {},
   "source": [
    "## `--filter` and `--filter-from`\n",
    "```text\n",
    "# a sample filter rule file\n",
    "\n",
    "# exclude secret17.jpg\n",
    "- secret*.jpg\n",
    "\n",
    "# include any other files that ends in .jpg\n",
    "+ *.jpg\n",
    "+ *.png\n",
    "+ file2.avi\n",
    "\n",
    "# include /dir/a/b/c/d /dir/whatever/else\n",
    "# but excludes any /dir/Trash/...\n",
    "- /dir/Trash/**\n",
    "+ /dir/**\n",
    "\n",
    "# exclude everything else\n",
    "- *\n",
    "```"
   ]
  },
  {
   "cell_type": "markdown",
   "metadata": {},
   "source": [
    "## Other metadata filters\n",
    "\n",
    "See more in [rclone's dcoumentation](https://rclone.org/filtering/#other-filters)\n"
   ]
  }
 ],
 "metadata": {
  "kernelspec": {
   "display_name": "Python 3.9.12 64-bit",
   "language": "python",
   "name": "python3"
  },
  "language_info": {
   "codemirror_mode": {
    "name": "ipython",
    "version": 3
   },
   "file_extension": ".py",
   "mimetype": "text/x-python",
   "name": "python",
   "nbconvert_exporter": "python",
   "pygments_lexer": "ipython3",
   "version": "3.9.12"
  },
  "orig_nbformat": 4,
  "vscode": {
   "interpreter": {
    "hash": "f9f85f796d01129d0dd105a088854619f454435301f6ffec2fea96ecbd9be4ac"
   }
  }
 },
 "nbformat": 4,
 "nbformat_minor": 2
}
